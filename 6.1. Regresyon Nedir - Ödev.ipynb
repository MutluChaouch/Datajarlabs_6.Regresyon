{
 "cells": [
  {
   "cell_type": "markdown",
   "metadata": {},
   "source": [
    "## 6.1. Regresyon Nedir - Odev"
   ]
  },
  {
   "cell_type": "markdown",
   "metadata": {},
   "source": [
    "#### 1. Birkaç ülke için elinizde finansal, ekonomik ve sosyal göstergeler hakkında Dünya Bankası verileri olduğunu varsayalım. Bu ülkelerdeki gelişme düzeyini etkileyen faktörleri ölçmek istiyorsunuz. Bu amaçla, milli gelirin nüfusa bölümü olarak tanımlanan kişi başına düşen milli geliri, kalkınma seviyesi için bir vekil olarak kullanmaya karar verdiniz. Kişi başına geliri tahmin etmek için veri kümenizdeki bazı özellikleri kullanmak istiyorsunuz. Bu görev bir sınıflandırma görevi mi yoksa bir regresyon görevi mi? Niçin?\n",
    "#### Regresyon problemidir. Kisi basina gelir surekli bir degisken oldugu icin."
   ]
  },
  {
   "cell_type": "markdown",
   "metadata": {},
   "source": [
    "#### 2. Aşağıdaki argümanlardan hangileri yanlıştır ve neden? \n",
    "####     OLS, özel bir doğrusal regresyon modelidir. -- Yanlis. OLS bir regresyon modeli degil, regresyon modelindeki bilinmeyen parametrelerin tahmin edilmesi icin kullanilan bir yontemdir.\n",
    "####     Regresyon modelleri, doğrusal regresyon varsayımlarını karşılamıyorsa kullanışsız hale gelir. -- Yanlis. Modelimiz varsayimlari karsilamadiginda uygulayabilecegimiz bazi yaklasimlar bulunmaktadir.\n",
    "####     Estimation ve prediction, doğrusal regresyon modelleri bağlamında aynı şeydir. -- Yanlis. Estimation modeldeki bilinmeyen parameterlerin tahmin edilmesi iken prediction hedef degiskenin bulunmasi olarak yorumlanir.\n",
    "####     Doğrusal regresyon modeli sadece bir tür regresyon modelidir. Regresyon problemleri, Support Vector Machines veya Random Forests gibi başka modellerle de çözülebilir. -- Dogru"
   ]
  },
  {
   "cell_type": "markdown",
   "metadata": {},
   "source": [
    "#### 3. Proje yöneticinizin, şirketinizin sunduğu hangi ücretsiz hizmetlerin, müşterilerinizin daha fazla ücretli hizmet satın almasını sağladığını bulmanızı istediğini varsayalım. Bu görevi bir regresyon problemi olarak formüle edin ve üzerinde çalışmak istediğiniz potansiyel sonucu ve özellikleri yazın.\n",
    "#### y = α + βx + θz\n",
    "#### y = toplam ucretli hizmet satin alma degeri \n",
    "#### x = toplam ucretsiz hizmet 1 satin alma degeri\n",
    "#### z = toplam ucretsiz hizmet 2 satin alma degeri"
   ]
  }
 ],
 "metadata": {
  "kernelspec": {
   "display_name": "Python 3",
   "language": "python",
   "name": "python3"
  },
  "language_info": {
   "codemirror_mode": {
    "name": "ipython",
    "version": 3
   },
   "file_extension": ".py",
   "mimetype": "text/x-python",
   "name": "python",
   "nbconvert_exporter": "python",
   "pygments_lexer": "ipython3",
   "version": "3.8.5"
  }
 },
 "nbformat": 4,
 "nbformat_minor": 2
}

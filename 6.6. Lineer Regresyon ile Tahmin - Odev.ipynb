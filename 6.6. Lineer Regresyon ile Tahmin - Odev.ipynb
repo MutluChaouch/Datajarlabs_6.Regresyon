{
 "cells": [
  {
   "cell_type": "markdown",
   "metadata": {},
   "source": [
    "## 6.6. Lineer Regresyon ile Tahmin - Odev"
   ]
  },
  {
   "cell_type": "code",
   "execution_count": 7,
   "metadata": {},
   "outputs": [],
   "source": [
    "import matplotlib.pyplot as plt\n",
    "import numpy as np\n",
    "import pandas as pd\n",
    "from sklearn.linear_model import LinearRegression\n",
    "from sklearn.model_selection import train_test_split\n",
    "from sklearn.metrics import mean_absolute_error\n",
    "import statsmodels.api as sm\n",
    "from statsmodels.tools.eval_measures import mse, rmse\n",
    "\n",
    "%matplotlib inline\n",
    "pd.options.display.float_format = '{:.3f}'.format\n",
    "\n",
    "import warnings\n",
    "warnings.filterwarnings(action='ignore')\n",
    "\n",
    "baslik_font = {'family': 'arial','color':  'darkred','weight': 'bold','size': 15 }\n",
    "eksen_font = {'family': 'arial','color':  'darkblue','weight': 'bold','size': 10 }"
   ]
  },
  {
   "cell_type": "code",
   "execution_count": 3,
   "metadata": {},
   "outputs": [],
   "source": [
    "ev = pd.read_csv('house_prices_train.csv')\n",
    "Y = ev['SalePrice']\n",
    "X = ev[['OverallQual','GrLivArea','GarageArea','GarageCars','YearBuilt','YearRemodAdd','TotalBsmtSF','1stFlrSF',\n",
    "       'FullBath','TotRmsAbvGrd']]"
   ]
  },
  {
   "cell_type": "code",
   "execution_count": 4,
   "metadata": {},
   "outputs": [
    {
     "name": "stdout",
     "output_type": "stream",
     "text": [
      "Egitim kumesindeki gozlem sayisi: 1168\n",
      "Test kumesindeki gozlem sayisi: 292\n"
     ]
    }
   ],
   "source": [
    "# Verilerinizi eğitim ve test kümelerine ayırın.\n",
    "\n",
    "X_train,X_test,Y_train,Y_test = train_test_split(X,Y,test_size = 0.2, random_state = 465)\n",
    "\n",
    "print('Egitim kumesindeki gozlem sayisi: {}'.format(X_train.shape[0]))\n",
    "print('Test kumesindeki gozlem sayisi: {}'.format(X_test.shape[0]))"
   ]
  },
  {
   "cell_type": "code",
   "execution_count": 5,
   "metadata": {},
   "outputs": [
    {
     "data": {
      "text/html": [
       "<table class=\"simpletable\">\n",
       "<caption>OLS Regression Results</caption>\n",
       "<tr>\n",
       "  <th>Dep. Variable:</th>        <td>SalePrice</td>    <th>  R-squared:         </th> <td>   0.772</td> \n",
       "</tr>\n",
       "<tr>\n",
       "  <th>Model:</th>                   <td>OLS</td>       <th>  Adj. R-squared:    </th> <td>   0.770</td> \n",
       "</tr>\n",
       "<tr>\n",
       "  <th>Method:</th>             <td>Least Squares</td>  <th>  F-statistic:       </th> <td>   390.9</td> \n",
       "</tr>\n",
       "<tr>\n",
       "  <th>Date:</th>             <td>Sun, 07 Mar 2021</td> <th>  Prob (F-statistic):</th>  <td>  0.00</td>  \n",
       "</tr>\n",
       "<tr>\n",
       "  <th>Time:</th>                 <td>12:01:57</td>     <th>  Log-Likelihood:    </th> <td> -13950.</td> \n",
       "</tr>\n",
       "<tr>\n",
       "  <th>No. Observations:</th>      <td>  1168</td>      <th>  AIC:               </th> <td>2.792e+04</td>\n",
       "</tr>\n",
       "<tr>\n",
       "  <th>Df Residuals:</th>          <td>  1157</td>      <th>  BIC:               </th> <td>2.798e+04</td>\n",
       "</tr>\n",
       "<tr>\n",
       "  <th>Df Model:</th>              <td>    10</td>      <th>                     </th>     <td> </td>    \n",
       "</tr>\n",
       "<tr>\n",
       "  <th>Covariance Type:</th>      <td>nonrobust</td>    <th>                     </th>     <td> </td>    \n",
       "</tr>\n",
       "</table>\n",
       "<table class=\"simpletable\">\n",
       "<tr>\n",
       "        <td></td>          <th>coef</th>     <th>std err</th>      <th>t</th>      <th>P>|t|</th>  <th>[0.025</th>    <th>0.975]</th>  \n",
       "</tr>\n",
       "<tr>\n",
       "  <th>const</th>        <td>-1.105e+06</td> <td> 1.44e+05</td> <td>   -7.671</td> <td> 0.000</td> <td>-1.39e+06</td> <td>-8.22e+05</td>\n",
       "</tr>\n",
       "<tr>\n",
       "  <th>OverallQual</th>  <td> 1.984e+04</td> <td> 1340.584</td> <td>   14.797</td> <td> 0.000</td> <td> 1.72e+04</td> <td> 2.25e+04</td>\n",
       "</tr>\n",
       "<tr>\n",
       "  <th>GrLivArea</th>    <td>   45.0594</td> <td>    4.706</td> <td>    9.575</td> <td> 0.000</td> <td>   35.826</td> <td>   54.293</td>\n",
       "</tr>\n",
       "<tr>\n",
       "  <th>GarageArea</th>   <td>   17.1388</td> <td>   11.590</td> <td>    1.479</td> <td> 0.139</td> <td>   -5.601</td> <td>   39.878</td>\n",
       "</tr>\n",
       "<tr>\n",
       "  <th>GarageCars</th>   <td> 1.189e+04</td> <td> 3450.974</td> <td>    3.445</td> <td> 0.001</td> <td> 5118.729</td> <td> 1.87e+04</td>\n",
       "</tr>\n",
       "<tr>\n",
       "  <th>YearBuilt</th>    <td>  275.8121</td> <td>   55.419</td> <td>    4.977</td> <td> 0.000</td> <td>  167.079</td> <td>  384.545</td>\n",
       "</tr>\n",
       "<tr>\n",
       "  <th>YearRemodAdd</th> <td>  246.0751</td> <td>   70.866</td> <td>    3.472</td> <td> 0.001</td> <td>  107.035</td> <td>  385.115</td>\n",
       "</tr>\n",
       "<tr>\n",
       "  <th>TotalBsmtSF</th>  <td>   13.7012</td> <td>    4.649</td> <td>    2.947</td> <td> 0.003</td> <td>    4.580</td> <td>   22.822</td>\n",
       "</tr>\n",
       "<tr>\n",
       "  <th>1stFlrSF</th>     <td>   14.2736</td> <td>    5.357</td> <td>    2.665</td> <td> 0.008</td> <td>    3.764</td> <td>   24.783</td>\n",
       "</tr>\n",
       "<tr>\n",
       "  <th>FullBath</th>     <td>-4869.7054</td> <td> 2968.844</td> <td>   -1.640</td> <td> 0.101</td> <td>-1.07e+04</td> <td>  955.215</td>\n",
       "</tr>\n",
       "<tr>\n",
       "  <th>TotRmsAbvGrd</th> <td> 1643.7793</td> <td> 1250.209</td> <td>    1.315</td> <td> 0.189</td> <td> -809.151</td> <td> 4096.710</td>\n",
       "</tr>\n",
       "</table>\n",
       "<table class=\"simpletable\">\n",
       "<tr>\n",
       "  <th>Omnibus:</th>       <td>395.722</td> <th>  Durbin-Watson:     </th> <td>   1.918</td> \n",
       "</tr>\n",
       "<tr>\n",
       "  <th>Prob(Omnibus):</th> <td> 0.000</td>  <th>  Jarque-Bera (JB):  </th> <td>39733.113</td>\n",
       "</tr>\n",
       "<tr>\n",
       "  <th>Skew:</th>          <td>-0.537</td>  <th>  Prob(JB):          </th> <td>    0.00</td> \n",
       "</tr>\n",
       "<tr>\n",
       "  <th>Kurtosis:</th>      <td>31.553</td>  <th>  Cond. No.          </th> <td>4.75e+05</td> \n",
       "</tr>\n",
       "</table><br/><br/>Notes:<br/>[1] Standard Errors assume that the covariance matrix of the errors is correctly specified.<br/>[2] The condition number is large, 4.75e+05. This might indicate that there are<br/>strong multicollinearity or other numerical problems."
      ],
      "text/plain": [
       "<class 'statsmodels.iolib.summary.Summary'>\n",
       "\"\"\"\n",
       "                            OLS Regression Results                            \n",
       "==============================================================================\n",
       "Dep. Variable:              SalePrice   R-squared:                       0.772\n",
       "Model:                            OLS   Adj. R-squared:                  0.770\n",
       "Method:                 Least Squares   F-statistic:                     390.9\n",
       "Date:                Sun, 07 Mar 2021   Prob (F-statistic):               0.00\n",
       "Time:                        12:01:57   Log-Likelihood:                -13950.\n",
       "No. Observations:                1168   AIC:                         2.792e+04\n",
       "Df Residuals:                    1157   BIC:                         2.798e+04\n",
       "Df Model:                          10                                         \n",
       "Covariance Type:            nonrobust                                         \n",
       "================================================================================\n",
       "                   coef    std err          t      P>|t|      [0.025      0.975]\n",
       "--------------------------------------------------------------------------------\n",
       "const        -1.105e+06   1.44e+05     -7.671      0.000   -1.39e+06   -8.22e+05\n",
       "OverallQual   1.984e+04   1340.584     14.797      0.000    1.72e+04    2.25e+04\n",
       "GrLivArea       45.0594      4.706      9.575      0.000      35.826      54.293\n",
       "GarageArea      17.1388     11.590      1.479      0.139      -5.601      39.878\n",
       "GarageCars    1.189e+04   3450.974      3.445      0.001    5118.729    1.87e+04\n",
       "YearBuilt      275.8121     55.419      4.977      0.000     167.079     384.545\n",
       "YearRemodAdd   246.0751     70.866      3.472      0.001     107.035     385.115\n",
       "TotalBsmtSF     13.7012      4.649      2.947      0.003       4.580      22.822\n",
       "1stFlrSF        14.2736      5.357      2.665      0.008       3.764      24.783\n",
       "FullBath     -4869.7054   2968.844     -1.640      0.101   -1.07e+04     955.215\n",
       "TotRmsAbvGrd  1643.7793   1250.209      1.315      0.189    -809.151    4096.710\n",
       "==============================================================================\n",
       "Omnibus:                      395.722   Durbin-Watson:                   1.918\n",
       "Prob(Omnibus):                  0.000   Jarque-Bera (JB):            39733.113\n",
       "Skew:                          -0.537   Prob(JB):                         0.00\n",
       "Kurtosis:                      31.553   Cond. No.                     4.75e+05\n",
       "==============================================================================\n",
       "\n",
       "Notes:\n",
       "[1] Standard Errors assume that the covariance matrix of the errors is correctly specified.\n",
       "[2] The condition number is large, 4.75e+05. This might indicate that there are\n",
       "strong multicollinearity or other numerical problems.\n",
       "\"\"\""
      ]
     },
     "execution_count": 5,
     "metadata": {},
     "output_type": "execute_result"
    }
   ],
   "source": [
    "# Modelinizi eğitim kümesinden önceki derste olduğu gibi oluşturun. Modelinizin uygunluğunu değerlendirin.\n",
    "\n",
    "X_train = sm.add_constant(X_train)\n",
    "results_train = sm.OLS(Y_train,X_train).fit()\n",
    "results_train.summary()"
   ]
  },
  {
   "cell_type": "code",
   "execution_count": 8,
   "metadata": {},
   "outputs": [
    {
     "data": {
      "image/png": "[encoded data removed]",
      "text/plain": [
       "<Figure size 432x288 with 1 Axes>"
      ]
     },
     "metadata": {
      "needs_background": "light"
     },
     "output_type": "display_data"
    },
    {
     "name": "stdout",
     "output_type": "stream",
     "text": [
      "Ortalama mutlak hata (MAE)        : 26093.135377628972\n",
      "Ortalama kare hata (MSE)          : 1649869554.016166\n",
      "Kok ortalama kare hata (RMSE)     : 40618.58631237879\n",
      "Ortalama mutlak yuzde hata (MAPE) : 15.166068176962803\n"
     ]
    }
   ],
   "source": [
    "# Test kümesindeki ev fiyatlarını tahmin edin ve bu derste belirttiğimiz metrikleri kullanarak modelinizin \n",
    "# performansını değerlendirin. Modelinizin performansı tatmin edici mi? Açıklayın.\n",
    "\n",
    "X_test = sm.add_constant(X_test)\n",
    "\n",
    "Y_pred = results_train.predict(X_test)\n",
    "\n",
    "plt.scatter(Y_test,Y_pred)\n",
    "plt.plot(Y_test,Y_test,color='red')\n",
    "plt.xlabel('Gercek degerler', fontdict = eksen_font)\n",
    "plt.ylabel('Tahmin degerler', fontdict = eksen_font)\n",
    "plt.title('Gercek ve Tahmin degerler', fontdict = baslik_font)\n",
    "plt.show()\n",
    "\n",
    "print('Ortalama mutlak hata (MAE)        : {}'.format(mean_absolute_error(Y_test, Y_pred)))\n",
    "print('Ortalama kare hata (MSE)          : {}'.format(mse(Y_test, Y_pred)))\n",
    "print('Kok ortalama kare hata (RMSE)     : {}'.format(rmse(Y_test, Y_pred)))\n",
    "print('Ortalama mutlak yuzde hata (MAPE) : {}'.format(np.mean(np.abs((Y_test - Y_pred)/Y_test))*100))"
   ]
  },
  {
   "cell_type": "code",
   "execution_count": null,
   "metadata": {},
   "outputs": [],
   "source": [
    "# Bazı değişkenleri ekleyerek veya çıkararak modelinizi tahmin performansı açısından geliştirmeye çalışın."
   ]
  },
  {
   "cell_type": "code",
   "execution_count": 29,
   "metadata": {},
   "outputs": [
    {
     "name": "stdout",
     "output_type": "stream",
     "text": [
      "Egitim kumesindeki gozlem sayisi: 1168\n",
      "Test kumesindeki gozlem sayisi: 292\n"
     ]
    }
   ],
   "source": [
    "Y = ev['SalePrice']\n",
    "ev['qual_yearremod'] = ev.OverallQual * ev.YearRemodAdd \n",
    "X = ev[['OverallQual','GrLivArea','GarageCars','YearBuilt','YearRemodAdd','TotalBsmtSF','qual_yearremod']]\n",
    "\n",
    "X_train,X_test,Y_train,Y_test = train_test_split(X,Y,test_size = 0.2, random_state = 465)\n",
    "\n",
    "print('Egitim kumesindeki gozlem sayisi: {}'.format(X_train.shape[0]))\n",
    "print('Test kumesindeki gozlem sayisi: {}'.format(X_test.shape[0]))"
   ]
  },
  {
   "cell_type": "code",
   "execution_count": 30,
   "metadata": {},
   "outputs": [
    {
     "data": {
      "text/html": [
       "<table class=\"simpletable\">\n",
       "<caption>OLS Regression Results</caption>\n",
       "<tr>\n",
       "  <th>Dep. Variable:</th>        <td>SalePrice</td>    <th>  R-squared:         </th> <td>   0.780</td> \n",
       "</tr>\n",
       "<tr>\n",
       "  <th>Model:</th>                   <td>OLS</td>       <th>  Adj. R-squared:    </th> <td>   0.778</td> \n",
       "</tr>\n",
       "<tr>\n",
       "  <th>Method:</th>             <td>Least Squares</td>  <th>  F-statistic:       </th> <td>   586.2</td> \n",
       "</tr>\n",
       "<tr>\n",
       "  <th>Date:</th>             <td>Sun, 07 Mar 2021</td> <th>  Prob (F-statistic):</th>  <td>  0.00</td>  \n",
       "</tr>\n",
       "<tr>\n",
       "  <th>Time:</th>                 <td>12:27:55</td>     <th>  Log-Likelihood:    </th> <td> -13930.</td> \n",
       "</tr>\n",
       "<tr>\n",
       "  <th>No. Observations:</th>      <td>  1168</td>      <th>  AIC:               </th> <td>2.788e+04</td>\n",
       "</tr>\n",
       "<tr>\n",
       "  <th>Df Residuals:</th>          <td>  1160</td>      <th>  BIC:               </th> <td>2.792e+04</td>\n",
       "</tr>\n",
       "<tr>\n",
       "  <th>Df Model:</th>              <td>     7</td>      <th>                     </th>     <td> </td>    \n",
       "</tr>\n",
       "<tr>\n",
       "  <th>Covariance Type:</th>      <td>nonrobust</td>    <th>                     </th>     <td> </td>    \n",
       "</tr>\n",
       "</table>\n",
       "<table class=\"simpletable\">\n",
       "<tr>\n",
       "         <td></td>           <th>coef</th>     <th>std err</th>      <th>t</th>      <th>P>|t|</th>  <th>[0.025</th>    <th>0.975]</th>  \n",
       "</tr>\n",
       "<tr>\n",
       "  <th>const</th>          <td> 2.763e+06</td> <td> 5.18e+05</td> <td>    5.334</td> <td> 0.000</td> <td> 1.75e+06</td> <td> 3.78e+06</td>\n",
       "</tr>\n",
       "<tr>\n",
       "  <th>OverallQual</th>    <td>-6.475e+05</td> <td> 8.87e+04</td> <td>   -7.301</td> <td> 0.000</td> <td>-8.21e+05</td> <td>-4.73e+05</td>\n",
       "</tr>\n",
       "<tr>\n",
       "  <th>GrLivArea</th>      <td>   49.0809</td> <td>    2.750</td> <td>   17.845</td> <td> 0.000</td> <td>   43.685</td> <td>   54.477</td>\n",
       "</tr>\n",
       "<tr>\n",
       "  <th>GarageCars</th>     <td> 1.495e+04</td> <td> 1983.302</td> <td>    7.540</td> <td> 0.000</td> <td> 1.11e+04</td> <td> 1.88e+04</td>\n",
       "</tr>\n",
       "<tr>\n",
       "  <th>YearBuilt</th>      <td>  169.7099</td> <td>   52.162</td> <td>    3.254</td> <td> 0.001</td> <td>   67.368</td> <td>  272.052</td>\n",
       "</tr>\n",
       "<tr>\n",
       "  <th>YearRemodAdd</th>   <td>-1592.3977</td> <td>  252.619</td> <td>   -6.304</td> <td> 0.000</td> <td>-2088.038</td> <td>-1096.757</td>\n",
       "</tr>\n",
       "<tr>\n",
       "  <th>TotalBsmtSF</th>    <td>   22.2806</td> <td>    3.023</td> <td>    7.371</td> <td> 0.000</td> <td>   16.350</td> <td>   28.211</td>\n",
       "</tr>\n",
       "<tr>\n",
       "  <th>qual_yearremod</th> <td>  335.6296</td> <td>   44.644</td> <td>    7.518</td> <td> 0.000</td> <td>  248.037</td> <td>  423.222</td>\n",
       "</tr>\n",
       "</table>\n",
       "<table class=\"simpletable\">\n",
       "<tr>\n",
       "  <th>Omnibus:</th>       <td>495.944</td> <th>  Durbin-Watson:     </th> <td>   1.889</td> \n",
       "</tr>\n",
       "<tr>\n",
       "  <th>Prob(Omnibus):</th> <td> 0.000</td>  <th>  Jarque-Bera (JB):  </th> <td>51136.701</td>\n",
       "</tr>\n",
       "<tr>\n",
       "  <th>Skew:</th>          <td>-0.976</td>  <th>  Prob(JB):          </th> <td>    0.00</td> \n",
       "</tr>\n",
       "<tr>\n",
       "  <th>Kurtosis:</th>      <td>35.357</td>  <th>  Cond. No.          </th> <td>6.29e+06</td> \n",
       "</tr>\n",
       "</table><br/><br/>Notes:<br/>[1] Standard Errors assume that the covariance matrix of the errors is correctly specified.<br/>[2] The condition number is large, 6.29e+06. This might indicate that there are<br/>strong multicollinearity or other numerical problems."
      ],
      "text/plain": [
       "<class 'statsmodels.iolib.summary.Summary'>\n",
       "\"\"\"\n",
       "                            OLS Regression Results                            \n",
       "==============================================================================\n",
       "Dep. Variable:              SalePrice   R-squared:                       0.780\n",
       "Model:                            OLS   Adj. R-squared:                  0.778\n",
       "Method:                 Least Squares   F-statistic:                     586.2\n",
       "Date:                Sun, 07 Mar 2021   Prob (F-statistic):               0.00\n",
       "Time:                        12:27:55   Log-Likelihood:                -13930.\n",
       "No. Observations:                1168   AIC:                         2.788e+04\n",
       "Df Residuals:                    1160   BIC:                         2.792e+04\n",
       "Df Model:                           7                                         \n",
       "Covariance Type:            nonrobust                                         \n",
       "==================================================================================\n",
       "                     coef    std err          t      P>|t|      [0.025      0.975]\n",
       "----------------------------------------------------------------------------------\n",
       "const           2.763e+06   5.18e+05      5.334      0.000    1.75e+06    3.78e+06\n",
       "OverallQual    -6.475e+05   8.87e+04     -7.301      0.000   -8.21e+05   -4.73e+05\n",
       "GrLivArea         49.0809      2.750     17.845      0.000      43.685      54.477\n",
       "GarageCars      1.495e+04   1983.302      7.540      0.000    1.11e+04    1.88e+04\n",
       "YearBuilt        169.7099     52.162      3.254      0.001      67.368     272.052\n",
       "YearRemodAdd   -1592.3977    252.619     -6.304      0.000   -2088.038   -1096.757\n",
       "TotalBsmtSF       22.2806      3.023      7.371      0.000      16.350      28.211\n",
       "qual_yearremod   335.6296     44.644      7.518      0.000     248.037     423.222\n",
       "==============================================================================\n",
       "Omnibus:                      495.944   Durbin-Watson:                   1.889\n",
       "Prob(Omnibus):                  0.000   Jarque-Bera (JB):            51136.701\n",
       "Skew:                          -0.976   Prob(JB):                         0.00\n",
       "Kurtosis:                      35.357   Cond. No.                     6.29e+06\n",
       "==============================================================================\n",
       "\n",
       "Notes:\n",
       "[1] Standard Errors assume that the covariance matrix of the errors is correctly specified.\n",
       "[2] The condition number is large, 6.29e+06. This might indicate that there are\n",
       "strong multicollinearity or other numerical problems.\n",
       "\"\"\""
      ]
     },
     "execution_count": 30,
     "metadata": {},
     "output_type": "execute_result"
    }
   ],
   "source": [
    "X_train = sm.add_constant(X_train)\n",
    "results_train = sm.OLS(Y_train,X_train).fit()\n",
    "results_train.summary()"
   ]
  },
  {
   "cell_type": "code",
   "execution_count": 31,
   "metadata": {},
   "outputs": [
    {
     "data": {
      "image/png": "[encoded data removed]",
      "text/plain": [
       "<Figure size 432x288 with 1 Axes>"
      ]
     },
     "metadata": {
      "needs_background": "light"
     },
     "output_type": "display_data"
    },
    {
     "name": "stdout",
     "output_type": "stream",
     "text": [
      "Ortalama mutlak hata (MAE)        : 25162.36596360006\n",
      "Ortalama kare hata (MSE)          : 1523530383.559676\n",
      "Kok ortalama kare hata (RMSE)     : 39032.42733368854\n",
      "Ortalama mutlak yuzde hata (MAPE) : 14.093724483136269\n"
     ]
    }
   ],
   "source": [
    "X_test = sm.add_constant(X_test)\n",
    "\n",
    "Y_pred = results_train.predict(X_test)\n",
    "\n",
    "plt.scatter(Y_test,Y_pred)\n",
    "plt.plot(Y_test,Y_test,color='red')\n",
    "plt.xlabel('Gercek degerler', fontdict = eksen_font)\n",
    "plt.ylabel('Tahmin degerler', fontdict = eksen_font)\n",
    "plt.title('Gercek ve Tahmin degerler', fontdict = baslik_font)\n",
    "plt.show()\n",
    "\n",
    "print('Ortalama mutlak hata (MAE)        : {}'.format(mean_absolute_error(Y_test, Y_pred)))\n",
    "print('Ortalama kare hata (MSE)          : {}'.format(mse(Y_test, Y_pred)))\n",
    "print('Kok ortalama kare hata (RMSE)     : {}'.format(rmse(Y_test, Y_pred)))\n",
    "print('Ortalama mutlak yuzde hata (MAPE) : {}'.format(np.mean(np.abs((Y_test - Y_pred)/Y_test))*100))"
   ]
  },
  {
   "cell_type": "markdown",
   "metadata": {},
   "source": [
    "<img src=\"1. model vs 2. model.png\">"
   ]
  },
  {
   "cell_type": "code",
   "execution_count": 32,
   "metadata": {},
   "outputs": [],
   "source": [
    "# iki modeli karsilastirdigimizda her ne kadar ikinci model de cok cok fazla bir ilerleme kat edememis de olsam,\n",
    "# birinci modele gore kucuk bir oradan daha fazla aciklayici gozukuyor."
   ]
  },
  {
   "cell_type": "code",
   "execution_count": null,
   "metadata": {},
   "outputs": [],
   "source": []
  }
 ],
 "metadata": {
  "kernelspec": {
   "display_name": "Python 3",
   "language": "python",
   "name": "python3"
  },
  "language_info": {
   "codemirror_mode": {
    "name": "ipython",
    "version": 3
   },
   "file_extension": ".py",
   "mimetype": "text/x-python",
   "name": "python",
   "nbconvert_exporter": "python",
   "pygments_lexer": "ipython3",
   "version": "3.8.5"
  }
 },
 "nbformat": 4,
 "nbformat_minor": 2
}

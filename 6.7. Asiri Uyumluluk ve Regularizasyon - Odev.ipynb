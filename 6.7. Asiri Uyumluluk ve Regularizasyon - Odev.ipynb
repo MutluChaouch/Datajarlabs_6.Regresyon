{
 "cells": [
  {
   "cell_type": "markdown",
   "metadata": {},
   "source": [
    "## 6.6. Lineer Regresyon ile Tahmin - Odev"
   ]
  },
  {
   "cell_type": "code",
   "execution_count": 2,
   "metadata": {},
   "outputs": [],
   "source": [
    "import matplotlib.pyplot as plt\n",
    "import numpy as np\n",
    "import pandas as pd\n",
    "from sklearn.linear_model import LinearRegression\n",
    "from sklearn.model_selection import train_test_split\n",
    "from sklearn.metrics import mean_absolute_error\n",
    "import statsmodels.api as sm\n",
    "from statsmodels.tools.eval_measures import mse, rmse\n",
    "\n",
    "from sklearn.linear_model import Ridge\n",
    "from sklearn.linear_model import Lasso\n",
    "from sklearn.linear_model import ElasticNet\n",
    "\n",
    "%matplotlib inline\n",
    "pd.options.display.float_format = '{:.3f}'.format\n",
    "\n",
    "import warnings\n",
    "warnings.filterwarnings(action='ignore')\n",
    "\n",
    "baslik_font = {'family': 'arial','color':  'darkred','weight': 'bold','size': 15 }\n",
    "eksen_font = {'family': 'arial','color':  'darkblue','weight': 'bold','size': 10 }"
   ]
  },
  {
   "cell_type": "code",
   "execution_count": 3,
   "metadata": {},
   "outputs": [],
   "source": [
    "ev = pd.read_csv('house_prices_train.csv')"
   ]
  },
  {
   "cell_type": "code",
   "execution_count": null,
   "metadata": {},
   "outputs": [],
   "source": [
    "# Önceki dersteki modelinizi yeniden uygulayın.\n",
    "# Aynı model tanımını kullanarak OLS, Lasso, Ridge ve ElasticNet regresyonlarını deneyin. \n",
    "# Bu kez, modelleriniz için en iyi hiperparametre değerlerini seçmek için k-fold çapraz doğrulama yapmanız gerekir.\n",
    "# Hangi model en iyisidir? Açıklayın?"
   ]
  },
  {
   "cell_type": "code",
   "execution_count": 7,
   "metadata": {},
   "outputs": [
    {
     "name": "stdout",
     "output_type": "stream",
     "text": [
      "Egitim kumesindeki gozlem sayisi: 1168\n",
      "Test kumesindeki gozlem sayisi: 292\n"
     ]
    }
   ],
   "source": [
    "Y = ev['SalePrice']\n",
    "ev['qual_yearremod'] = ev.OverallQual * ev.YearRemodAdd \n",
    "X = ev[['OverallQual','GrLivArea','GarageCars','YearBuilt','YearRemodAdd','TotalBsmtSF','qual_yearremod']]\n",
    "\n",
    "X_train,X_test,Y_train,Y_test = train_test_split(X,Y,test_size=0.2, random_state = 465)\n",
    "\n",
    "print('Egitim kumesindeki gozlem sayisi: {}'.format(X_train.shape[0]))\n",
    "print('Test kumesindeki gozlem sayisi: {}'.format(X_test.shape[0]))"
   ]
  },
  {
   "cell_type": "code",
   "execution_count": 8,
   "metadata": {},
   "outputs": [
    {
     "name": "stdout",
     "output_type": "stream",
     "text": [
      "Eğitim kümesindeki R-Kare değeri  : 0.7796198555097447\n",
      "-----Test kümesi istatistikleri---\n",
      "Test kümesi R-Kare değeri         : 0.7897234982826087\n",
      "Ortalama Mutlak Hata (MAE)        : 25162.365963593802\n",
      "Ortalama Kare Hata (MSE)          : 1523530383.5373266\n",
      "Kök Ortalama Kare Hata (RMSE)     : 39032.427333402244\n",
      "Ortalama Mutlak Yüzde Hata (MAPE) : 14.093724483156016\n"
     ]
    }
   ],
   "source": [
    "# OLS\n",
    "\n",
    "lrm = LinearRegression()\n",
    "lrm.fit(X_train, Y_train)\n",
    "\n",
    "Y_train_predict = lrm.predict(X_train)\n",
    "Y_test_predict = lrm.predict(X_test)\n",
    "\n",
    "print(\"Eğitim kümesindeki R-Kare değeri  : {}\".format(lrm.score(X_train, Y_train)))\n",
    "print(\"-----Test kümesi istatistikleri---\")\n",
    "print(\"Test kümesi R-Kare değeri         : {}\".format(lrm.score(X_test, Y_test)))\n",
    "print(\"Ortalama Mutlak Hata (MAE)        : {}\".format(mean_absolute_error(Y_test, Y_test_predict)))\n",
    "print(\"Ortalama Kare Hata (MSE)          : {}\".format(mse(Y_test, Y_test_predict)))\n",
    "print(\"Kök Ortalama Kare Hata (RMSE)     : {}\".format(rmse(Y_test, Y_test_predict)))\n",
    "print(\"Ortalama Mutlak Yüzde Hata (MAPE) : {}\".format(np.mean(np.abs((Y_test - Y_test_predict) / Y_test)) * 100))"
   ]
  },
  {
   "cell_type": "code",
   "execution_count": 23,
   "metadata": {},
   "outputs": [
    {
     "name": "stdout",
     "output_type": "stream",
     "text": [
      "Eğitim kümesi R-Kare değeri       : 0.7622187289055091\n",
      "-----Test kümesi istatistikleri---\n",
      "Test kümesi R-Kare değeri         : 0.776163737422608\n",
      "Ortalama Mutlak Hata (MAE)        : 26257.143625260644\n",
      "Ortalama Kare Hata (MSE)          : 1621775824.6350496\n",
      "Kök Ortalama Kare Hata (RMSE)     : 40271.27791162145\n",
      "Ortalama Mutlak Yüzde Hata (MAPE) : 15.04260618364808\n"
     ]
    }
   ],
   "source": [
    "# Ridge\n",
    "\n",
    "ridgeregr = Ridge(alpha=10**3) \n",
    "ridgeregr.fit(X_train, Y_train)\n",
    "\n",
    "Y_train_predict = ridgeregr.predict(X_train)\n",
    "Y_test_predict = ridgeregr.predict(X_test)\n",
    "\n",
    "print(\"Eğitim kümesi R-Kare değeri       : {}\".format(ridgeregr.score(X_train, Y_train)))\n",
    "print(\"-----Test kümesi istatistikleri---\")\n",
    "print(\"Test kümesi R-Kare değeri         : {}\".format(ridgeregr.score(X_test, Y_test)))\n",
    "print(\"Ortalama Mutlak Hata (MAE)        : {}\".format(mean_absolute_error(Y_test, Y_test_predict)))\n",
    "print(\"Ortalama Kare Hata (MSE)          : {}\".format(mse(Y_test, Y_test_predict)))\n",
    "print(\"Kök Ortalama Kare Hata (RMSE)     : {}\".format(rmse(Y_test, Y_test_predict)))\n",
    "print(\"Ortalama Mutlak Yüzde Hata (MAPE) : {}\".format(np.mean(np.abs((Y_test - Y_test_predict) / Y_test)) * 100))"
   ]
  },
  {
   "cell_type": "code",
   "execution_count": 30,
   "metadata": {},
   "outputs": [
    {
     "name": "stdout",
     "output_type": "stream",
     "text": [
      "Eğitim kümesi R-Kare değeri       : 0.7689465733175844\n",
      "-----Test kümesi istatistikleri---\n",
      "Test kümesi R-Kare değeri         : 0.7745714714145344\n",
      "Ortalama Mutlak Hata (MAE)        : 26108.47462534047\n",
      "Ortalama Kare Hata (MSE)          : 1633312375.9004602\n",
      "Kök Ortalama Kare Hata (RMSE)     : 40414.25956145256\n",
      "Ortalama Mutlak Yüzde Hata (MAPE) : 15.005228851942764\n"
     ]
    }
   ],
   "source": [
    "# Lasso\n",
    "\n",
    "lassoregr = Lasso(alpha=10**3) \n",
    "lassoregr.fit(X_train, Y_train)\n",
    "\n",
    "Y_train_predict = lassoregr.predict(X_train)\n",
    "Y_test_predict = lassoregr.predict(X_test)\n",
    "\n",
    "print(\"Eğitim kümesi R-Kare değeri       : {}\".format(lassoregr.score(X_train, Y_train)))\n",
    "print(\"-----Test kümesi istatistikleri---\")\n",
    "print(\"Test kümesi R-Kare değeri         : {}\".format(lassoregr.score(X_test, Y_test)))\n",
    "print(\"Ortalama Mutlak Hata (MAE)        : {}\".format(mean_absolute_error(Y_test, Y_test_predict)))\n",
    "print(\"Ortalama Kare Hata (MSE)          : {}\".format(mse(Y_test, Y_test_predict)))\n",
    "print(\"Kök Ortalama Kare Hata (RMSE)     : {}\".format(rmse(Y_test, Y_test_predict)))\n",
    "print(\"Ortalama Mutlak Yüzde Hata (MAPE) : {}\".format(np.mean(np.abs((Y_test - Y_test_predict) / Y_test)) * 100))"
   ]
  },
  {
   "cell_type": "code",
   "execution_count": 39,
   "metadata": {},
   "outputs": [
    {
     "name": "stdout",
     "output_type": "stream",
     "text": [
      "Eğitim kümesi R-Kare değeri       : 0.7563639931871685\n",
      "-----Test kümesi istatistikleri---\n",
      "Test kümesi R-Kare değeri         : 0.7746339742463136\n",
      "Ortalama Mutlak Hata (MAE)        : 26524.414212695963\n",
      "Ortalama Kare Hata (MSE)          : 1632859519.9584267\n",
      "Kök Ortalama Kare Hata (RMSE)     : 40408.65649781525\n",
      "Ortalama Mutlak Yüzde Hata (MAPE) : 15.247162635936117\n"
     ]
    }
   ],
   "source": [
    "# ElasticNet\n",
    "\n",
    "elasticregr = ElasticNet(alpha=10**2, l1_ratio=0.5) \n",
    "elasticregr.fit(X_train, Y_train)\n",
    "\n",
    "Y_train_predict = elasticregr.predict(X_train)\n",
    "Y_test_predict = elasticregr.predict(X_test)\n",
    "\n",
    "print(\"Eğitim kümesi R-Kare değeri       : {}\".format(elasticregr.score(X_train, Y_train)))\n",
    "print(\"-----Test kümesi istatistikleri---\")\n",
    "print(\"Test kümesi R-Kare değeri         : {}\".format(elasticregr.score(X_test, Y_test)))\n",
    "print(\"Ortalama Mutlak Hata (MAE)        : {}\".format(mean_absolute_error(Y_test, Y_test_predict)))\n",
    "print(\"Ortalama Kare Hata (MSE)          : {}\".format(mse(Y_test, Y_test_predict)))\n",
    "print(\"Kök Ortalama Kare Hata (RMSE)     : {}\".format(rmse(Y_test, Y_test_predict)))\n",
    "print(\"Ortalama Mutlak Yüzde Hata (MAPE) : {}\".format(np.mean(np.abs((Y_test - Y_test_predict) / Y_test)) * 100))"
   ]
  },
  {
   "cell_type": "code",
   "execution_count": null,
   "metadata": {},
   "outputs": [],
   "source": [
    "# hiperparametre icin deneme yanilma ile gittim. Dogru bir hareket mi emin degilim.\n",
    "# 4 farkli regresyon sonuclarina baktigimizda OLS ile en iyi sonucu aldigimi goruyorum. Zaten sanirim benim modelim\n",
    "# overfitting yapmadigi icin diger regresyon yonte"
   ]
  }
 ],
 "metadata": {
  "kernelspec": {
   "display_name": "Python 3",
   "language": "python",
   "name": "python3"
  },
  "language_info": {
   "codemirror_mode": {
    "name": "ipython",
    "version": 3
   },
   "file_extension": ".py",
   "mimetype": "text/x-python",
   "name": "python",
   "nbconvert_exporter": "python",
   "pygments_lexer": "ipython3",
   "version": "3.8.5"
  }
 },
 "nbformat": 4,
 "nbformat_minor": 2
}
